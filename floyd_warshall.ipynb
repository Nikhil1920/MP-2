{
  "nbformat": 4,
  "nbformat_minor": 0,
  "metadata": {
    "colab": {
      "name": "floyd_warshall.ipynb",
      "provenance": []
    },
    "kernelspec": {
      "name": "python3",
      "display_name": "Python 3"
    }
  },
  "cells": [
    {
      "cell_type": "code",
      "metadata": {
        "id": "GmKgmnUxWjgy"
      },
      "source": [
        "import sys\r\n",
        "INF = sys.maxsize"
      ],
      "execution_count": 2,
      "outputs": []
    },
    {
      "cell_type": "code",
      "metadata": {
        "colab": {
          "base_uri": "https://localhost:8080/"
        },
        "id": "7cwgS_ryXEo3",
        "outputId": "588ee69a-1bb5-42c2-dec4-3fd256a9fca5"
      },
      "source": [
        "def floydWarshall(graph):\r\n",
        "  n = len(graph)\r\n",
        "  dist = [[] for i in range(n)]\r\n",
        "  for i in range(n):\r\n",
        "    for j in range(n):\r\n",
        "      dist[i].append(graph[i][j])\r\n",
        "  \r\n",
        "  \r\n",
        "  for k in range(n):\r\n",
        "    for i in range(n):\r\n",
        "      for j in range(n):\r\n",
        "        dist[i][j] = min(dist[i][j],dist[i][k]+ dist[k][j])\r\n",
        "\r\n",
        "  print(\"shortest distance between every pair of vertices\")\r\n",
        "  for i in range(n):\r\n",
        "    for j in range(n):\r\n",
        "      if dist[i][j]==INF:\r\n",
        "        print(\"%7s\" %(\"INF\"),end =' ')\r\n",
        "      else:\r\n",
        "        print(\"%7d\" %(dist[i][j]),end=' ')\r\n",
        "    print()\r\n",
        "graph = [[0,5,INF,10], \r\n",
        "             [INF,0,3,INF], \r\n",
        "             [INF, INF, 0,   1], \r\n",
        "             [INF, INF, INF, 0] \r\n",
        "        ] \r\n",
        "# Print the solution \r\n",
        "floydWarshall(graph); "
      ],
      "execution_count": 9,
      "outputs": [
        {
          "output_type": "stream",
          "text": [
            "shortest distance between every pair of vertices\n",
            "      0       5       8       9 \n",
            "    INF       0       3       4 \n",
            "    INF     INF       0       1 \n",
            "    INF     INF     INF       0 \n"
          ],
          "name": "stdout"
        }
      ]
    }
  ]
}