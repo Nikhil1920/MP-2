{
  "nbformat": 4,
  "nbformat_minor": 0,
  "metadata": {
    "colab": {
      "name": "lagranges-relaxation.ipynb",
      "provenance": []
    },
    "kernelspec": {
      "name": "python3",
      "display_name": "Python 3"
    }
  },
  "cells": [
    {
      "cell_type": "code",
      "metadata": {
        "colab": {
          "base_uri": "https://localhost:8080/"
        },
        "id": "Y8L4U7Hnwl4C",
        "outputId": "a40d4ca5-638c-43f8-fc51-0340726f9c3e"
      },
      "source": [
        "import numpy as np\r\n",
        "\r\n",
        "def func(X):\r\n",
        "    x = X[0]\r\n",
        "    y = X[1]\r\n",
        "    L = X[2]\r\n",
        "    return 6*x**2 + 12*y**2 - L * (x + y - 90)\r\n",
        "def dfunc(X):\r\n",
        "    dLambda = np.zeros(len(X))\r\n",
        "    h = 1e-3\r\n",
        "    for i in range(len(X)):\r\n",
        "        dX = np.zeros(len(X))\r\n",
        "        dX[i] = h\r\n",
        "        dLambda[i] = (func(X+dX)-func(X-dX))/(2*h);\r\n",
        "    return dLambda\r\n",
        "    \r\n",
        "from scipy.optimize import fsolve\r\n",
        "\r\n",
        "X1 = fsolve(dfunc, [1, 1, 0])\r\n",
        "print (X1, func(X1))\r\n",
        "\r\n",
        "# this is the min\r\n",
        "X2 = fsolve(dfunc, [-1, -1, 0])\r\n",
        "print (X2, func(X2))"
      ],
      "execution_count": 1,
      "outputs": [
        {
          "output_type": "stream",
          "text": [
            "[ 60.          30.         720.00000001] 32400.0\n",
            "[ 60.          30.         719.99999999] 32400.0\n"
          ],
          "name": "stdout"
        }
      ]
    }
  ]
}